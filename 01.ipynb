{
  "nbformat": 4,
  "nbformat_minor": 0,
  "metadata": {
    "colab": {
      "name": "01.ipynb",
      "provenance": [],
      "authorship_tag": "ABX9TyNXyqePQMP64+Vwrf5fnwBA",
      "include_colab_link": true
    },
    "kernelspec": {
      "name": "python3",
      "display_name": "Python 3"
    }
  },
  "cells": [
    {
      "cell_type": "markdown",
      "metadata": {
        "id": "view-in-github",
        "colab_type": "text"
      },
      "source": [
        "<a href=\"https://colab.research.google.com/github/kenny1902/Colab/blob/master/01.ipynb\" target=\"_parent\"><img src=\"https://colab.research.google.com/assets/colab-badge.svg\" alt=\"Open In Colab\"/></a>"
      ]
    },
    {
      "cell_type": "code",
      "metadata": {
        "id": "bt8zTP3NuXTb",
        "outputId": "336b3d26-26d0-468c-d0ab-eee545ad5c4b",
        "colab": {
          "base_uri": "https://localhost:8080/"
        }
      },
      "source": [
        "print (2+3)\n",
        "print (type(8/5))\n"
      ],
      "execution_count": 6,
      "outputs": [
        {
          "output_type": "stream",
          "text": [
            "5\n",
            "<class 'float'>\n"
          ],
          "name": "stdout"
        }
      ]
    },
    {
      "cell_type": "code",
      "metadata": {
        "id": "CjSzch1NvFAS",
        "outputId": "adc58240-2dc3-440a-ea9f-490da842e106",
        "colab": {
          "base_uri": "https://localhost:8080/"
        }
      },
      "source": [
        "input1 = 2\n",
        "input2 = 3\n",
        "\n",
        "result = input1 +input2\n",
        "print (\"The sum of\", input1, \"and\", input2, \"is\", result)\n",
        "print (\"The sum of {2} %s and %s is %s\".format(input1,input2,result))"
      ],
      "execution_count": 10,
      "outputs": [
        {
          "output_type": "stream",
          "text": [
            "The sum of 2 and 3 is 5\n",
            "The sum of 5 %s and %s is %s\n"
          ],
          "name": "stdout"
        }
      ]
    },
    {
      "cell_type": "code",
      "metadata": {
        "id": "jdFr7ys5VKmL",
        "outputId": "a4df2ac9-6da3-4c68-e341-6c89c2cecac0",
        "colab": {
          "base_uri": "https://localhost:8080/"
        }
      },
      "source": [
        "#format\n",
        "\n",
        "print ('lan 1 {0} and {1}'.format('spam','eggs'))\n",
        "print ('lan 2 {1} and {0}'.format('spam','eggs'))"
      ],
      "execution_count": 12,
      "outputs": [
        {
          "output_type": "stream",
          "text": [
            "lan 1 spam and eggs\n",
            "lan 2 eggs and spam\n"
          ],
          "name": "stdout"
        }
      ]
    },
    {
      "cell_type": "code",
      "metadata": {
        "id": "Zm9G6Y_RViPy",
        "outputId": "bf1463b4-b9a5-4cc5-d731-348f3b2119a0",
        "colab": {
          "base_uri": "https://localhost:8080/"
        }
      },
      "source": [
        "import math\n",
        "print('The value {0:.3f}'.format(math.pi)) #in ra 3 so cuoi sau dau phay cua so Pi"
      ],
      "execution_count": 14,
      "outputs": [
        {
          "output_type": "stream",
          "text": [
            "The value 3.142\n"
          ],
          "name": "stdout"
        }
      ]
    },
    {
      "cell_type": "code",
      "metadata": {
        "id": "flzlWYyPWNgl",
        "outputId": "15fb6b54-7f63-434a-e3b9-7b555a045728",
        "colab": {
          "base_uri": "https://localhost:8080/",
          "height": 35
        }
      },
      "source": [
        "#table = {'Sjoerd': 4127, 'Jack': 4098, 'Dcab': 7678}\n",
        "#for name, phone in table.items():\n",
        "#    print ('{0:10} ==> {1:1d}'.format(name, phone))\n",
        "\n",
        "'{:,}'.format(1234567890)"
      ],
      "execution_count": 24,
      "outputs": [
        {
          "output_type": "execute_result",
          "data": {
            "application/vnd.google.colaboratory.intrinsic+json": {
              "type": "string"
            },
            "text/plain": [
              "'1,234,567,890'"
            ]
          },
          "metadata": {
            "tags": []
          },
          "execution_count": 24
        }
      ]
    },
    {
      "cell_type": "code",
      "metadata": {
        "id": "OJkF4II9YVMv",
        "outputId": "9c9f5890-494c-4cba-ff37-f694aced5a84",
        "colab": {
          "base_uri": "https://localhost:8080/"
        }
      },
      "source": [
        "name = \"macro\"\n",
        "age = 12\n",
        "\n",
        "print (\"Ten %s va tuoi %s\" % (age, name))\n",
        "print (type (age))\n",
        "type (age)\n",
        "print (3*f'{name} is {age} years old \\n')\n",
        "print (3*f'{name} is {age} years old ')\n",
        "\n"
      ],
      "execution_count": 66,
      "outputs": [
        {
          "output_type": "stream",
          "text": [
            "Ten 12 va tuoi macro\n",
            "<class 'int'>\n",
            "macro is 12 years old \n",
            "macro is 12 years old \n",
            "macro is 12 years old \n",
            "\n",
            "macro is 12 years old macro is 12 years old macro is 12 years old \n"
          ],
          "name": "stdout"
        }
      ]
    },
    {
      "cell_type": "code",
      "metadata": {
        "id": "FEmcfO4aaPCS",
        "outputId": "c3337681-1bb9-49bd-96f6-1520218a8607",
        "colab": {
          "base_uri": "https://localhost:8080/"
        }
      },
      "source": [
        "print ('lan 1 {:8}'.format('test'))\n",
        "print ('lan 2 {:>8}'.format('test'))\n",
        "\n",
        "a = 10.122232\n",
        "print (f'{a:.2f}')"
      ],
      "execution_count": 52,
      "outputs": [
        {
          "output_type": "stream",
          "text": [
            "lan 1 test    \n",
            "lan 2     test\n",
            "10.12\n"
          ],
          "name": "stdout"
        }
      ]
    },
    {
      "cell_type": "code",
      "metadata": {
        "id": "_TPPQ7-_s7Vu",
        "outputId": "c1e15a09-774d-4fe6-d68e-b46f1fb890b3",
        "colab": {
          "base_uri": "https://localhost:8080/"
        }
      },
      "source": [
        "q = 459\n",
        "p = 59.098\n",
        "print (\"Art: %5d, Price per Unit : %8.2f\"%(q,p))\n",
        "print (\"Art: %10d, Price per Unit : %10.2f\"%(q,p))"
      ],
      "execution_count": 63,
      "outputs": [
        {
          "output_type": "stream",
          "text": [
            "Art:   459, Price per Unit :    59.10\n",
            "Art:        459, Price per Unit :      59.10\n"
          ],
          "name": "stdout"
        }
      ]
    },
    {
      "cell_type": "code",
      "metadata": {
        "id": "N_feuTQ-t27n",
        "outputId": "287afc4f-9356-41fc-8f40-d567feab9535",
        "colab": {
          "base_uri": "https://localhost:8080/"
        }
      },
      "source": [
        "a = \"hoa tuoi\"\n",
        "b = \"hom nay\"\n",
        "print (a,b, sep= '====')\n",
        "print (a,b, sep= '/')\n",
        "\n",
        "print (\"lan 1\")\n",
        "print (a, end='*')\n",
        "print (b)\n",
        "print ('\\n') #cach dong khi in\n",
        "print (\"lan 2\")\n",
        "print (a, end='\\n') #xuong dong sau khi in xong a\n",
        "print (b)\n",
        "print (3*'\\n')  #cach dong khi in\n",
        "print ('There are', 6, 'members of Monty Python', sep='😀')"
      ],
      "execution_count": 84,
      "outputs": [
        {
          "output_type": "stream",
          "text": [
            "hoa tuoi====hom nay\n",
            "hoa tuoi/hom nay\n",
            "lan 1\n",
            "hoa tuoi*hom nay\n",
            "\n",
            "\n",
            "lan 2\n",
            "hoa tuoi\n",
            "hom nay\n",
            "\n",
            "\n",
            "\n",
            "\n",
            "There are😀6😀members of Monty Python\n"
          ],
          "name": "stdout"
        }
      ]
    }
  ]
}